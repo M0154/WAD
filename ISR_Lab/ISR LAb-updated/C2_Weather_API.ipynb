{
 "cells": [
  {
   "cell_type": "markdown",
   "id": "b74cb479",
   "metadata": {},
   "source": [
    "# C_3_Live weather report"
   ]
  },
  {
   "cell_type": "code",
   "execution_count": 1,
   "id": "f763e7c6",
   "metadata": {},
   "outputs": [
    {
     "name": "stdout",
     "output_type": "stream",
     "text": [
      "Enter City Name To Get Weather Report: Mumbai\n",
      "Weather in (Mumbai, Maharashtra, India):\n",
      "Temperature: 27.4°C\n",
      "Wind Speed: 11.2 kph\n",
      "Condition: Moderate or heavy rain with thunder\n"
     ]
    }
   ],
   "source": [
    "import requests\n",
    "import json\n",
    "\n",
    "def get_weather_report():\n",
    "    # API URL\n",
    "    API_URL = \"https://api.weatherapi.com/v1/current.json?key=0ffbc5c35b604366adb42044240210&q=\"\n",
    "   \n",
    "    # Get the city name from the user\n",
    "    city_name = input(\"Enter City Name To Get Weather Report: \")\n",
    "   \n",
    "    # Append the city name to the API URL\n",
    "    full_api_url = API_URL + city_name\n",
    "   \n",
    "    try:\n",
    "        # Send the GET request\n",
    "        response = requests.get(full_api_url)\n",
    "       \n",
    "        # Check if the request was successful (status code 200)\n",
    "        if response.status_code == 200:\n",
    "            # Parse the JSON response\n",
    "            json_response = response.json()\n",
    "           \n",
    "            # Extract necessary fields from JSON response\n",
    "            temperature = json_response['current']['temp_c']\n",
    "            wind_speed = json_response['current']['wind_kph']\n",
    "            description = json_response['current']['condition']['text']\n",
    "            city = json_response['location']['name']\n",
    "            state = json_response['location']['region']\n",
    "            country = json_response['location']['country']\n",
    "           \n",
    "            # Print the formatted weather report\n",
    "            print(f\"Weather in ({city}, {state}, {country}):\")\n",
    "            print(f\"Temperature: {temperature}°C\")\n",
    "            print(f\"Wind Speed: {wind_speed} kph\")\n",
    "            print(f\"Condition: {description}\")\n",
    "       \n",
    "        else:\n",
    "            print(f\"Something went wrong... HTTP Status Code: {response.status_code}\")\n",
    "   \n",
    "    except requests.exceptions.RequestException as e:\n",
    "        # Handle connection errors or other exceptions\n",
    "        print(f\"An error occurred: {e}\")\n",
    "\n",
    "# Call the function to get weather report\n",
    "get_weather_report()"
   ]
  }
 ],
 "metadata": {
  "kernelspec": {
   "display_name": "Python 3 (ipykernel)",
   "language": "python",
   "name": "python3"
  },
  "language_info": {
   "codemirror_mode": {
    "name": "ipython",
    "version": 3
   },
   "file_extension": ".py",
   "mimetype": "text/x-python",
   "name": "python",
   "nbconvert_exporter": "python",
   "pygments_lexer": "ipython3",
   "version": "3.11.5"
  }
 },
 "nbformat": 4,
 "nbformat_minor": 5
}
